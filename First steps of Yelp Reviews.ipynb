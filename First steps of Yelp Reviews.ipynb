{
 "cells": [
  {
   "cell_type": "code",
   "execution_count": 1,
   "metadata": {},
   "outputs": [],
   "source": [
    "#import\n",
    "import pandas as pd"
   ]
  },
  {
   "cell_type": "code",
   "execution_count": null,
   "metadata": {},
   "outputs": [],
   "source": [
    "#define\n",
    "#we need to rename this directory to wherever the CSV files are located\n",
    "yelp_attr = pd.read_csv('../input/yelp_business_attributes.csv')\n",
    "yelp_rev = pd.read_csv('../input/yelp_review.csv',nrows = 10000)"
   ]
  },
  {
   "cell_type": "code",
   "execution_count": null,
   "metadata": {},
   "outputs": [],
   "source": [
    "#just a quick show of 2 rows of each csv so we can see what to merge on and so we can see the column locations\n",
    "yelp_rev.head(2)\n",
    "yelp_attr.head(2)"
   ]
  },
  {
   "cell_type": "code",
   "execution_count": 2,
   "metadata": {},
   "outputs": [],
   "source": [
    "#Combine Ambience and Reviews into a Dataframe\n",
    "yelp_reviewd = pd.merge(yelp_rev, yelp_attr, on='business_id', how='left')"
   ]
  },
  {
   "cell_type": "code",
   "execution_count": 3,
   "metadata": {},
   "outputs": [],
   "source": [
    "#Filter all restaurants with matching ambience\n",
    "ambiencelist = yelp_attr.filter(like='Ambience').columns.tolist()\n",
    "bougie = []\n",
    "for i in ambiencelist\n",
    "    if i = \"upscale\" or \"classy\"\n",
    "        bougie.append(True)\n",
    "    else:\n",
    "        bougie.append(False)\n",
    "        \n",
    "        \n",
    "#Potentially another way to do this loop: is_bougie = ambiencelist = \"upscale\" or \"classy\""
   ]
  },
  {
   "cell_type": "code",
   "execution_count": null,
   "metadata": {},
   "outputs": [],
   "source": [
    "#add boolean to the dataframe\n",
    "is_bougie = pd.series(bougie)\n",
    "yelp_reviewd[is_bougie]"
   ]
  },
  {
   "cell_type": "code",
   "execution_count": 4,
   "metadata": {},
   "outputs": [],
   "source": [
    "#List Reviews from matching restaurants\n",
    "yelp_reviewd.loc[is_bougie,'review']"
   ]
  },
  {
   "cell_type": "code",
   "execution_count": null,
   "metadata": {},
   "outputs": [],
   "source": [
    "#List the most commonly used words in descending order\n",
    "pd.Series(' '.join(df.yelp_reviewd).split()).value_counts()[:3]\n"
   ]
  },
  {
   "cell_type": "code",
   "execution_count": 5,
   "metadata": {},
   "outputs": [],
   "source": [
    "#Repeat steps 3-5 with non-matching restaurants"
   ]
  },
  {
   "cell_type": "code",
   "execution_count": null,
   "metadata": {},
   "outputs": [],
   "source": []
  }
 ],
 "metadata": {
  "kernelspec": {
   "display_name": "Python 3",
   "language": "python",
   "name": "python3"
  },
  "language_info": {
   "codemirror_mode": {
    "name": "ipython",
    "version": 3
   },
   "file_extension": ".py",
   "mimetype": "text/x-python",
   "name": "python",
   "nbconvert_exporter": "python",
   "pygments_lexer": "ipython3",
   "version": "3.7.3"
  }
 },
 "nbformat": 4,
 "nbformat_minor": 2
}
